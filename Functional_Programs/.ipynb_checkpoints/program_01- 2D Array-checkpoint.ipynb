{
 "cells": [
  {
   "cell_type": "code",
   "execution_count": 7,
   "metadata": {},
   "outputs": [
    {
     "name": "stdout",
     "output_type": "stream",
     "text": [
      "rows = 3\n",
      "col = 2\n",
      "enter data typebool\n",
      "True\n",
      "F\n",
      "T\n",
      "f\n",
      "F\n",
      "T\n",
      "[[ True  True]\n",
      " [ True  True]\n",
      " [ True  True]]\n"
     ]
    }
   ],
   "source": [
    "#program_01\n",
    "import numpy as np\n",
    "r = int(input(\"rows = \"))\n",
    "c = int(input(\"col = \"))\n",
    "p = input(\"enter data type\")\n",
    "arr = np.empty((r,c),p)\n",
    "for i in range(r):\n",
    "    for j in range(c):\n",
    "        arr[i,j] = input()\n",
    "print(arr)"
   ]
  },
  {
   "cell_type": "code",
   "execution_count": null,
   "metadata": {},
   "outputs": [],
   "source": []
  }
 ],
 "metadata": {
  "kernelspec": {
   "display_name": "Python 3",
   "language": "python",
   "name": "python3"
  },
  "language_info": {
   "codemirror_mode": {
    "name": "ipython",
    "version": 3
   },
   "file_extension": ".py",
   "mimetype": "text/x-python",
   "name": "python",
   "nbconvert_exporter": "python",
   "pygments_lexer": "ipython3",
   "version": "3.7.3"
  }
 },
 "nbformat": 4,
 "nbformat_minor": 2
}
