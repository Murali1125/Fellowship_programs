{
 "cells": [
  {
   "cell_type": "code",
   "execution_count": 3,
   "metadata": {},
   "outputs": [
    {
     "name": "stdout",
     "output_type": "stream",
     "text": [
      "enter the num of integers4\n",
      "-10\n",
      "4\n",
      "4\n",
      "3\n"
     ]
    }
   ],
   "source": [
    "#progrm_02\n",
    "n = int(input(\"enter the num of integers\"))\n",
    "lis =[]\n",
    "for i in range(n):\n",
    "    lis.append(int(input()))\n",
    "\n",
    "for i in range(0,len(lis)-2):\n",
    "    for j in range(i,len(lis)-1):\n",
    "        for k in range(j,len(lis)):\n",
    "            s = lis[i]+lis[j]+lis[k]\n",
    "            if s == 0:\n",
    "                print(f'{lis[i]}+lis[j]+lis[k] = {s}')"
   ]
  },
  {
   "cell_type": "markdown",
   "metadata": {},
   "source": [
    "## "
   ]
  }
 ],
 "metadata": {
  "kernelspec": {
   "display_name": "Python 3",
   "language": "python",
   "name": "python3"
  },
  "language_info": {
   "codemirror_mode": {
    "name": "ipython",
    "version": 3
   },
   "file_extension": ".py",
   "mimetype": "text/x-python",
   "name": "python",
   "nbconvert_exporter": "python",
   "pygments_lexer": "ipython3",
   "version": "3.7.3"
  }
 },
 "nbformat": 4,
 "nbformat_minor": 2
}
