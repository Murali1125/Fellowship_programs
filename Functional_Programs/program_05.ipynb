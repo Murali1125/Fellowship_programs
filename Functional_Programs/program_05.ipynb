{
 "cells": [
  {
   "cell_type": "code",
   "execution_count": 3,
   "metadata": {},
   "outputs": [
    {
     "name": "stdout",
     "output_type": "stream",
     "text": [
      "temperature= 45\n",
      "wind speed= 80\n",
      "wind_chill =  30.418003347342\n"
     ]
    }
   ],
   "source": [
    "#program_05\n",
    "import math\n",
    "t = float(input(\"temperature= \"))\n",
    "v = float(input(\"wind speed= \"))\n",
    "\n",
    "if (v in range(3,120)) and t<=50:\n",
    "    wind_chill = 35.74+(0.6215*t) +((0.4275*t)-35.75)*math.pow(v,0.16)\n",
    "    print(\"wind_chill = \", wind_chill)\n",
    "else:\n",
    "    print(\"values are not in range\")"
   ]
  },
  {
   "cell_type": "code",
   "execution_count": null,
   "metadata": {},
   "outputs": [],
   "source": []
  },
  {
   "cell_type": "code",
   "execution_count": null,
   "metadata": {},
   "outputs": [],
   "source": []
  }
 ],
 "metadata": {
  "kernelspec": {
   "display_name": "Python 3",
   "language": "python",
   "name": "python3"
  },
  "language_info": {
   "codemirror_mode": {
    "name": "ipython",
    "version": 3
   },
   "file_extension": ".py",
   "mimetype": "text/x-python",
   "name": "python",
   "nbconvert_exporter": "python",
   "pygments_lexer": "ipython3",
   "version": "3.7.3"
  }
 },
 "nbformat": 4,
 "nbformat_minor": 2
}
