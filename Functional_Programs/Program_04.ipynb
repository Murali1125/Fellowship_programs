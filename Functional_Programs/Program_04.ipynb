{
 "cells": [
  {
   "cell_type": "code",
   "execution_count": 1,
   "metadata": {},
   "outputs": [
    {
     "name": "stdout",
     "output_type": "stream",
     "text": [
      "the equation is a*x*x + b*x + c\n",
      "a value4\n",
      "b value9\n",
      "c value3\n",
      "root1 =  -0.4069296691827464\n",
      "root2=  -1.8430703308172536\n"
     ]
    }
   ],
   "source": [
    "#program_04\n",
    "import math\n",
    "print(\"the equation is a*x*x + b*x + c\")\n",
    "a = int(input(\"a value\"))\n",
    "b = int(input(\"b value\"))\n",
    "c = int(input(\"c value\"))\n",
    "delta = b*b - 4*a*c \n",
    "Root1 = (-b + math.sqrt(delta))/(2*a)\n",
    "Root2 = (-b - math.sqrt(delta))/(2*a)\n",
    "print(\"root1 = \",Root1)\n",
    "print(\"root2= \",Root2)"
   ]
  },
  {
   "cell_type": "code",
   "execution_count": null,
   "metadata": {},
   "outputs": [],
   "source": []
  }
 ],
 "metadata": {
  "kernelspec": {
   "display_name": "Python 3",
   "language": "python",
   "name": "python3"
  },
  "language_info": {
   "codemirror_mode": {
    "name": "ipython",
    "version": 3
   },
   "file_extension": ".py",
   "mimetype": "text/x-python",
   "name": "python",
   "nbconvert_exporter": "python",
   "pygments_lexer": "ipython3",
   "version": "3.7.3"
  }
 },
 "nbformat": 4,
 "nbformat_minor": 2
}
