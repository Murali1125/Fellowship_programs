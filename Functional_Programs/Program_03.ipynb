{
 "cells": [
  {
   "cell_type": "code",
   "execution_count": 1,
   "metadata": {},
   "outputs": [
    {
     "name": "stdout",
     "output_type": "stream",
     "text": [
      "enter co-ordinates of the point\n",
      "4\n",
      "9\n",
      "distance =  9.848857801796104\n"
     ]
    }
   ],
   "source": [
    "#program_03\n",
    "import math\n",
    "print(\"enter co-ordinates of the point\")\n",
    "x = int(input())\n",
    "y = int(input())\n",
    "s = math.pow(x,2) + math.pow(y,2)\n",
    "dist = math.pow(s,0.5)\n",
    "print(\"distance = \",dist)"
   ]
  },
  {
   "cell_type": "code",
   "execution_count": null,
   "metadata": {},
   "outputs": [],
   "source": []
  }
 ],
 "metadata": {
  "kernelspec": {
   "display_name": "Python 3",
   "language": "python",
   "name": "python3"
  },
  "language_info": {
   "codemirror_mode": {
    "name": "ipython",
    "version": 3
   },
   "file_extension": ".py",
   "mimetype": "text/x-python",
   "name": "python",
   "nbconvert_exporter": "python",
   "pygments_lexer": "ipython3",
   "version": "3.7.3"
  }
 },
 "nbformat": 4,
 "nbformat_minor": 2
}
