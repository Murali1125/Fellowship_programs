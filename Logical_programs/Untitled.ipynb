{
 "cells": [
  {
   "cell_type": "code",
   "execution_count": null,
   "metadata": {},
   "outputs": [],
   "source": [
    "# program_04\n",
    "# tic-tac-toe game\n",
    "# checking the board, it is full or not\n",
    "def board_check(board,t_rows,t_col):   \n",
    "    for i in range(t_rows):\n",
    "        for j in range(t_col):\n",
    "            if board[i][j] == \"#\":\n",
    "                return True\n",
    "            elif i == t_rows-1 and j == t_col:\n",
    "                return False\n",
    "# player_01 game\n",
    "def player_1(board,t_rows,t_col):\n",
    "    check = board_check(board,t_rows,t_col)\n",
    "    print(\"player 01\")\n",
    "    if (check):\n",
    "        row = int(input(\"enter the possion(row)\"))\n",
    "        col = int(input(\"enter the possion (col)\"))\n",
    "        if board[row][col] == \"#\":\n",
    "            board[row][col] == \"X\"\n",
    "            print(board[row][col] )\n",
    "            return player_2(board,t_rows,t_col)\n",
    "        else:\n",
    "            print(\"select correct one\")\n",
    "            return player_1(board,t_rows,t_col)\n",
    "    else:\n",
    "        print(\"Board is full\")\n",
    "# player_02 game        \n",
    "def player_2(board,t_rows,t_col):\n",
    "    check = board_check(board,t_rows,t_col)\n",
    "    print(\"player 02\")\n",
    "    if (check):\n",
    "        row = int(input(\"enter the possion(row)\"))\n",
    "        col = int(input(\"enter the possion (col)\"))\n",
    "        if board[row][col] == \"#\":\n",
    "            board[row][col] == \"O\"\n",
    "            print(board[row][col] )\n",
    "            return player_1(board,t_rows,t_col)\n",
    "        else:\n",
    "            print(\"select correct one\")\n",
    "            return player_2(board,t_rows,t_col)\n",
    "    else:\n",
    "        print(\"Board is full\")\n",
    "# Driving program for above functions\n",
    "row = int(input(\"enter the size of the board\"))\n",
    "col = int(input())\n",
    "board = []\n",
    "for i in range(row):\n",
    "    board.append([\"#\" for i in range(col)])\n",
    "player_1(board,row,col)"
   ]
  }
 ],
 "metadata": {
  "kernelspec": {
   "display_name": "Python 3",
   "language": "python",
   "name": "python3"
  },
  "language_info": {
   "codemirror_mode": {
    "name": "ipython",
    "version": 3
   },
   "file_extension": ".py",
   "mimetype": "text/x-python",
   "name": "python",
   "nbconvert_exporter": "python",
   "pygments_lexer": "ipython3",
   "version": "3.7.3"
  }
 },
 "nbformat": 4,
 "nbformat_minor": 2
}
