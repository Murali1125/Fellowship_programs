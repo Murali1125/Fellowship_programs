{
 "cells": [
  {
   "cell_type": "code",
   "execution_count": 8,
   "metadata": {},
   "outputs": [
    {
     "ename": "IndentationError",
     "evalue": "expected an indented block (<ipython-input-8-d3d984834b24>, line 38)",
     "output_type": "error",
     "traceback": [
      "\u001b[1;36m  File \u001b[1;32m\"<ipython-input-8-d3d984834b24>\"\u001b[1;36m, line \u001b[1;32m38\u001b[0m\n\u001b[1;33m    def player_02(lis):\u001b[0m\n\u001b[1;37m                       ^\u001b[0m\n\u001b[1;31mIndentationError\u001b[0m\u001b[1;31m:\u001b[0m expected an indented block\n"
     ]
    }
   ],
   "source": [
    "#program 04\n",
    "#tic-tac-toe\n",
    "\n",
    "print(\"_00_|_01_|_02_\")\n",
    "print(\"_10_|_11_|_12_\")\n",
    "print(\" 2 | 8 | 9 \")\n",
    "lis = [[0,0,0],[0,0,0],[0,0,0]]\n",
    "\n",
    "def check(lis):\n",
    "    for i in range(3):\n",
    "        for j in range(3):\n",
    "            if lis[i][j] == 0:\n",
    "                return True\n",
    "            elif i ==2 and j ==2:\n",
    "                print(\"board is full\")\n",
    "                break\n",
    "def check_win(lis,ch,player):\n",
    "    if lis[0][0] == lis[0][1] == lis[0][2] == ch:\n",
    "            print(f'player {player} wins')\n",
    "    elif lis[1][0] == lis[1][1] == lis[1][2] == ch:\n",
    "        print(\"player 01 wins\")\n",
    "    elif lis[2][0] == lis[2][1] == lis[2][2] == ch:\n",
    "        print(\"player 01 wins\") \n",
    "    elif lis[0][0] == lis[1][0] == lis[2][0] == ch:\n",
    "        print(\"player 01 wins\")\n",
    "    elif lis[0][1] == lis[1][1] == lis[1][1] == ch:\n",
    "        print(\"player 01 wins\")\n",
    "    elif lis[0][2] == lis[1][2] == lis[2][2] == ch:\n",
    "        print(\"player 01 wins\")\n",
    "    elif lis[0][0] == lis[1][1] == lis[2][2] == ch:\n",
    "        print(\"player 01 wins\")\n",
    "    elif lis[0][[2] == lis[1][1] == lis[2][0] == ch:\n",
    "        print(\"player 01 wins\") \n",
    "    \n",
    "def player_01(lis):\n",
    "    ch = check(lis)\n",
    "    if (ch):\n",
    "        print(\"player_01\")\n",
    "        row = int(input(\"enter possion\"))\n",
    "        col = int(input())\n",
    "        lis[row][col] = \"X\"\n",
    "    check_win(lis,\"X\",1)\n",
    "def player_02(lis):\n",
    "    ch = check(lis)\n",
    "    if (ch):\n",
    "        print(\"player_02\")\n",
    "        row = int(input(\"enter possion\"))\n",
    "        col = int(input())\n",
    "        lis[row][col] = \"O\"\n",
    "        ckecK(lis,\"O\")\n",
    "    check_win(lis,\"O\",2)"
   ]
  },
  {
   "cell_type": "code",
   "execution_count": 7,
   "metadata": {},
   "outputs": [
    {
     "ename": "NameError",
     "evalue": "name 'raw_input' is not defined",
     "output_type": "error",
     "traceback": [
      "\u001b[1;31m---------------------------------------------------------------------------\u001b[0m",
      "\u001b[1;31mNameError\u001b[0m                                 Traceback (most recent call last)",
      "\u001b[1;32m<ipython-input-7-0a3d00bb7aa5>\u001b[0m in \u001b[0;36m<module>\u001b[1;34m\u001b[0m\n\u001b[1;32m----> 1\u001b[1;33m \u001b[0mx\u001b[0m \u001b[1;33m=\u001b[0m \u001b[0mraw_input\u001b[0m\u001b[1;33m(\u001b[0m\u001b[1;33m)\u001b[0m\u001b[1;33m\u001b[0m\u001b[1;33m\u001b[0m\u001b[0m\n\u001b[0m\u001b[0;32m      2\u001b[0m \u001b[0mprint\u001b[0m\u001b[1;33m(\u001b[0m\u001b[0mtype\u001b[0m\u001b[1;33m(\u001b[0m\u001b[0mx\u001b[0m\u001b[1;33m)\u001b[0m\u001b[1;33m)\u001b[0m\u001b[1;33m\u001b[0m\u001b[1;33m\u001b[0m\u001b[0m\n",
      "\u001b[1;31mNameError\u001b[0m: name 'raw_input' is not defined"
     ]
    }
   ],
   "source": [
    "x = raw_input()\n",
    "print(type(x))"
   ]
  },
  {
   "cell_type": "code",
   "execution_count": null,
   "metadata": {},
   "outputs": [],
   "source": []
  }
 ],
 "metadata": {
  "kernelspec": {
   "display_name": "Python 3",
   "language": "python",
   "name": "python3"
  },
  "language_info": {
   "codemirror_mode": {
    "name": "ipython",
    "version": 3
   },
   "file_extension": ".py",
   "mimetype": "text/x-python",
   "name": "python",
   "nbconvert_exporter": "python",
   "pygments_lexer": "ipython3",
   "version": "3.7.3"
  }
 },
 "nbformat": 4,
 "nbformat_minor": 2
}
