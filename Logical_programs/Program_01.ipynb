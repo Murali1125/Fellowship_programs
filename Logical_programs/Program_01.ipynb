{
 "cells": [
  {
   "cell_type": "code",
   "execution_count": 1,
   "metadata": {},
   "outputs": [
    {
     "name": "stdout",
     "output_type": "stream",
     "text": [
      "enter the stake amount10\n",
      "enter the goal amount15\n",
      "enter the max trails30\n",
      "number of times won = 9 , percentage of win = 69.23076923076923, number of bets = 13\n"
     ]
    }
   ],
   "source": [
    "#program_01\n",
    "import random\n",
    "stake = int(input(\"enter the stake amount\"))\n",
    "goal = int(input(\"enter the goal amount\"))\n",
    "trails = int(input(\"enter the max trails\"))\n",
    "game = 0\n",
    "list = []\n",
    "while stake != goal and stake!=0 and game != trails:\n",
    "    x = random.choice(\"WL\")\n",
    "    game = game + 1\n",
    "    list.append(x)\n",
    "    if x == \"W\" :\n",
    "         stake = stake + 1\n",
    "    else:\n",
    "        stake = stake - 1\n",
    "length = len(list)\n",
    "wins = list.count(\"W\")\n",
    "Loses = list.count(\"L\")\n",
    "per = (wins/game)*100\n",
    "\n",
    "print(f'number of times won = {wins} , percentage of win = {per}, number of bets = {game}')\n"
   ]
  },
  {
   "cell_type": "code",
   "execution_count": null,
   "metadata": {},
   "outputs": [],
   "source": []
  }
 ],
 "metadata": {
  "kernelspec": {
   "display_name": "Python 3",
   "language": "python",
   "name": "python3"
  },
  "language_info": {
   "codemirror_mode": {
    "name": "ipython",
    "version": 3
   },
   "file_extension": ".py",
   "mimetype": "text/x-python",
   "name": "python",
   "nbconvert_exporter": "python",
   "pygments_lexer": "ipython3",
   "version": "3.7.3"
  }
 },
 "nbformat": 4,
 "nbformat_minor": 2
}
