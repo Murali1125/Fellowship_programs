{
 "cells": [
  {
   "cell_type": "code",
   "execution_count": 3,
   "metadata": {},
   "outputs": [
    {
     "ename": "IndentationError",
     "evalue": "expected an indented block (<ipython-input-3-3066ef0959b2>, line 26)",
     "output_type": "error",
     "traceback": [
      "\u001b[1;36m  File \u001b[1;32m\"<ipython-input-3-3066ef0959b2>\"\u001b[1;36m, line \u001b[1;32m26\u001b[0m\n\u001b[1;33m    def player_02(lis):\u001b[0m\n\u001b[1;37m                       ^\u001b[0m\n\u001b[1;31mIndentationError\u001b[0m\u001b[1;31m:\u001b[0m expected an indented block\n"
     ]
    }
   ],
   "source": [
    "#program 04\n",
    "#tic-tac-toe\n",
    "\n",
    "print(\"_00_|_01_|_02_\")\n",
    "print(\"_10_|_11_|_12_\")\n",
    "print(\" 2 | 8 | 9 \")\n",
    "lis = [[0,0,0],[0,0,0],[0,0,0]]\n",
    "\n",
    "def check(lis):\n",
    "    for i in range(3):\n",
    "        for j in range(3):\n",
    "            if lis[i][j] == 0:\n",
    "                return True\n",
    "            elif i ==2 and j ==2:\n",
    "                print(\"board is full\")\n",
    "                break\n",
    "def check():\n",
    "    \n",
    "def player_01(lis):\n",
    "    ch = check(lis)\n",
    "    if (ch):\n",
    "        print(\"player_01\")\n",
    "        row = int(input(\"enter possion\"))\n",
    "        col = int(input())\n",
    "        lis[row][col] = \"X\"\n",
    "        check(lis,\"X\")\n",
    "def player_02(lis):\n",
    "    ch = check(lis)\n",
    "    if (ch):\n",
    "        print(\"player_02\")\n",
    "        row = int(input(\"enter possion\"))\n",
    "        col = int(input())\n",
    "        lis[row][col] = \"O\"\n",
    "        ckecK(lis,\"O\")"
   ]
  },
  {
   "cell_type": "code",
   "execution_count": null,
   "metadata": {},
   "outputs": [],
   "source": []
  }
 ],
 "metadata": {
  "kernelspec": {
   "display_name": "Python 3",
   "language": "python",
   "name": "python3"
  },
  "language_info": {
   "codemirror_mode": {
    "name": "ipython",
    "version": 3
   },
   "file_extension": ".py",
   "mimetype": "text/x-python",
   "name": "python",
   "nbconvert_exporter": "python",
   "pygments_lexer": "ipython3",
   "version": "3.7.3"
  }
 },
 "nbformat": 4,
 "nbformat_minor": 2
}
