{
 "cells": [
  {
   "cell_type": "code",
   "execution_count": 5,
   "metadata": {},
   "outputs": [
    {
     "name": "stdout",
     "output_type": "stream",
     "text": [
      "start \n",
      "stop\n",
      "elapsed time =  5.601609945297241\n"
     ]
    }
   ],
   "source": [
    "#program_03\n",
    "#stop watch simulation\n",
    "import time\n",
    "def start_watch():\n",
    "    start_time = time.time()\n",
    "    return start_time\n",
    "def stop_watch(s_tim):\n",
    "    stop_time = time.time()-s_tim\n",
    "    return stop_time\n",
    "input(\"start \")\n",
    "s_time = start_watch()\n",
    "input(\"stop\")\n",
    "print(\"elapsed time = \",stop_watch(s_time))"
   ]
  },
  {
   "cell_type": "code",
   "execution_count": null,
   "metadata": {},
   "outputs": [],
   "source": []
  }
 ],
 "metadata": {
  "kernelspec": {
   "display_name": "Python 3",
   "language": "python",
   "name": "python3"
  },
  "language_info": {
   "codemirror_mode": {
    "name": "ipython",
    "version": 3
   },
   "file_extension": ".py",
   "mimetype": "text/x-python",
   "name": "python",
   "nbconvert_exporter": "python",
   "pygments_lexer": "ipython3",
   "version": "3.7.3"
  }
 },
 "nbformat": 4,
 "nbformat_minor": 2
}
