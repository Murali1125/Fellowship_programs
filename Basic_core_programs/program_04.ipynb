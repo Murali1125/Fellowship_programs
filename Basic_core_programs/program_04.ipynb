{
 "cells": [
  {
   "cell_type": "code",
   "execution_count": 1,
   "metadata": {},
   "outputs": [
    {
     "name": "stdout",
     "output_type": "stream",
     "text": [
      "enter number between (0,31)10\n",
      "1.0\n",
      "1.0 is not a leap year\n",
      "2.0\n",
      "2.0 is not a leap year\n",
      "4.0\n",
      "4.0 is a leap year\n",
      "8.0\n",
      "8.0 is a leap year\n",
      "16.0\n",
      "16.0 is a leap year\n",
      "32.0\n",
      "32.0 is a leap year\n",
      "64.0\n",
      "64.0 is a leap year\n",
      "128.0\n",
      "128.0 is a leap year\n",
      "256.0\n",
      "256.0 is a leap year\n",
      "512.0\n",
      "512.0 is a leap year\n"
     ]
    }
   ],
   "source": [
    "#program_04\n",
    "import math\n",
    "def num():\n",
    "    number = int(input(\"enter number between (0,31)\"))\n",
    "    if number<0 or number>31:\n",
    "        print(\"enter a valid input\")\n",
    "        return num()\n",
    "    return number\n",
    "n = num()\n",
    "for i in range(n):\n",
    "    x = math.pow(2,i)\n",
    "    print(x)\n",
    "    if x%4 == 0:\n",
    "        if x%100 == 0:\n",
    "            if x%400 == 0:\n",
    "                print(f\"{x} is a leap year\")\n",
    "            else:\n",
    "                print(f\"{x} is not a leap year\")\n",
    "        else:\n",
    "            print(f\"{x} is a leap year\")\n",
    "    else:\n",
    "        print(f\"{x} is not a leap year\")"
   ]
  },
  {
   "cell_type": "code",
   "execution_count": null,
   "metadata": {},
   "outputs": [],
   "source": []
  }
 ],
 "metadata": {
  "kernelspec": {
   "display_name": "Python 3",
   "language": "python",
   "name": "python3"
  },
  "language_info": {
   "codemirror_mode": {
    "name": "ipython",
    "version": 3
   },
   "file_extension": ".py",
   "mimetype": "text/x-python",
   "name": "python",
   "nbconvert_exporter": "python",
   "pygments_lexer": "ipython3",
   "version": "3.7.3"
  }
 },
 "nbformat": 4,
 "nbformat_minor": 2
}
