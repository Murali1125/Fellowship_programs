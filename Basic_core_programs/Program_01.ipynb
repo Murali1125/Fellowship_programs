{
 "cells": [
  {
   "cell_type": "code",
   "execution_count": 1,
   "metadata": {},
   "outputs": [
    {
     "name": "stdout",
     "output_type": "stream",
     "text": [
      "enter user nameMurali1125\n",
      "Hellow Murali1125, How are you\n"
     ]
    }
   ],
   "source": [
    "#Program_01\n",
    "def name():\n",
    "    nam = input(\"enter user name\")\n",
    "    if len(nam)<3:\n",
    "        print(\"enter valid user name\")\n",
    "        return name()\n",
    "    return nam\n",
    "name = name()\n",
    "name = f'Hellow {name}, How are you' \n",
    "print(name)"
   ]
  },
  {
   "cell_type": "code",
   "execution_count": null,
   "metadata": {},
   "outputs": [],
   "source": []
  }
 ],
 "metadata": {
  "kernelspec": {
   "display_name": "Python 3",
   "language": "python",
   "name": "python3"
  },
  "language_info": {
   "codemirror_mode": {
    "name": "ipython",
    "version": 3
   },
   "file_extension": ".py",
   "mimetype": "text/x-python",
   "name": "python",
   "nbconvert_exporter": "python",
   "pygments_lexer": "ipython3",
   "version": "3.7.3"
  }
 },
 "nbformat": 4,
 "nbformat_minor": 2
}
