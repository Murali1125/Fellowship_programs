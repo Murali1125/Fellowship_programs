{
 "cells": [
  {
   "cell_type": "code",
   "execution_count": 3,
   "metadata": {},
   "outputs": [
    {
     "name": "stdout",
     "output_type": "stream",
     "text": [
      "enter the 'N' value5\n",
      "1\n",
      "2\n",
      "3\n",
      "4\n",
      "5\n",
      "hormonic value is2.283333333333333\n"
     ]
    }
   ],
   "source": [
    "#program_05\n",
    "N = int(input(\"enter the 'N' value\"))\n",
    "s = 0\n",
    "for i in range(1,N+1,1):\n",
    "    print(i)\n",
    "    s = s + (1/i)\n",
    "print(f\"hormonic value is{s}\")"
   ]
  },
  {
   "cell_type": "code",
   "execution_count": null,
   "metadata": {},
   "outputs": [],
   "source": []
  },
  {
   "cell_type": "code",
   "execution_count": null,
   "metadata": {},
   "outputs": [],
   "source": []
  }
 ],
 "metadata": {
  "kernelspec": {
   "display_name": "Python 3",
   "language": "python",
   "name": "python3"
  },
  "language_info": {
   "codemirror_mode": {
    "name": "ipython",
    "version": 3
   },
   "file_extension": ".py",
   "mimetype": "text/x-python",
   "name": "python",
   "nbconvert_exporter": "python",
   "pygments_lexer": "ipython3",
   "version": "3.7.3"
  }
 },
 "nbformat": 4,
 "nbformat_minor": 2
}
