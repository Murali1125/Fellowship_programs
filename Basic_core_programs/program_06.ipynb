{
 "cells": [
  {
   "cell_type": "code",
   "execution_count": 1,
   "metadata": {},
   "outputs": [
    {
     "name": "stdout",
     "output_type": "stream",
     "text": [
      "give a number '(number should not be prime number)'20\n",
      "prime factors\n",
      "2  2  5  "
     ]
    }
   ],
   "source": [
    "#program_06\n",
    "num = int(input(\"give a number '(number should not be prime number)'\"))\n",
    "prm = []\n",
    "for i in range(2,int(num/2),1):\n",
    "    mid = int(i/2)\n",
    "    count=0\n",
    "    if i in (0,1):\n",
    "        continue\n",
    "    for j in range(2,mid+1,1):\n",
    "        if (i%j) == 0:\n",
    "            count = count+1\n",
    "    if count == 0:\n",
    "        prm.append(i)\n",
    "prm.sort()\n",
    "print(\"prime factors\")\n",
    "while num != 1:\n",
    "    i = 0\n",
    "    rem = 1\n",
    "    while rem != 0:\n",
    "        x = prm[i]\n",
    "        if ((num%x) == 0):\n",
    "            num = (num/x)\n",
    "            rem = 0\n",
    "            print(x,end=\"  \")\n",
    "        else:\n",
    "            i = i+1"
   ]
  },
  {
   "cell_type": "code",
   "execution_count": null,
   "metadata": {},
   "outputs": [],
   "source": []
  }
 ],
 "metadata": {
  "kernelspec": {
   "display_name": "Python 3",
   "language": "python",
   "name": "python3"
  },
  "language_info": {
   "codemirror_mode": {
    "name": "ipython",
    "version": 3
   },
   "file_extension": ".py",
   "mimetype": "text/x-python",
   "name": "python",
   "nbconvert_exporter": "python",
   "pygments_lexer": "ipython3",
   "version": "3.7.3"
  }
 },
 "nbformat": 4,
 "nbformat_minor": 2
}
