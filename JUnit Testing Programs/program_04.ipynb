{
 "cells": [
  {
   "cell_type": "code",
   "execution_count": null,
   "metadata": {},
   "outputs": [],
   "source": [
    "#program_04\n",
    "import math\n",
    "P = int(input(\"P=\"))\n",
    "Y = int(input(\"Y=\"))\n",
    "R = float(input(\"R=\"))\n",
    "\n",
    "n= 12*Y\n",
    "r= (R/(12*100))\n",
    "\n",
    "payment = (P*r)/1-math.pow((1+r),-n)\n",
    "print(\"payments = \",payment)"
   ]
  }
 ],
 "metadata": {
  "kernelspec": {
   "display_name": "Python 3",
   "language": "python",
   "name": "python3"
  },
  "language_info": {
   "codemirror_mode": {
    "name": "ipython",
    "version": 3
   },
   "file_extension": ".py",
   "mimetype": "text/x-python",
   "name": "python",
   "nbconvert_exporter": "python",
   "pygments_lexer": "ipython3",
   "version": "3.7.3"
  }
 },
 "nbformat": 4,
 "nbformat_minor": 2
}
