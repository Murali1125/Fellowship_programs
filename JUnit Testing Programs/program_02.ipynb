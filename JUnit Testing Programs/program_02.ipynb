{
 "cells": [
  {
   "cell_type": "code",
   "execution_count": null,
   "metadata": {},
   "outputs": [],
   "source": [
    "#program_02\n",
    "y = int(input(\"year=\"))\n",
    "m = int(input(\"month=\"))\n",
    "d = int(input(\"day\"))\n",
    "y0 = y-(14-m)/12\n",
    "x = y0 + y0/4 - y0/100 + y0/400\n",
    "m0 = m +12*((14-m)/12)-2\n",
    "d0 = int((d+x+(31*m0/12)))%7\n",
    "days = {1:\"Sunday\",2:\"Monday\",3:\"Tuesday\",4:\"Wednesday\",5:\"Thursday\",6:\"Friday\",7:\"Saturday\"}\n",
    "print(days[d0])"
   ]
  }
 ],
 "metadata": {
  "kernelspec": {
   "display_name": "Python 3",
   "language": "python",
   "name": "python3"
  },
  "language_info": {
   "codemirror_mode": {
    "name": "ipython",
    "version": 3
   },
   "file_extension": ".py",
   "mimetype": "text/x-python",
   "name": "python",
   "nbconvert_exporter": "python",
   "pygments_lexer": "ipython3",
   "version": "3.7.3"
  }
 },
 "nbformat": 4,
 "nbformat_minor": 2
}
