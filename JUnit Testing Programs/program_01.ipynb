{
 "cells": [
  {
   "cell_type": "code",
   "execution_count": 11,
   "metadata": {},
   "outputs": [
    {
     "name": "stdout",
     "output_type": "stream",
     "text": [
      "enter the money32121\n",
      "{1000: 32, 100: 1, 10: 2, 1: 1}\n",
      "total_notes =  36\n"
     ]
    }
   ],
   "source": [
    "#program_01\n",
    "money = int(input(\"enter the money\"))\n",
    "notes = [1,2,5,10,50,100,500,1000]\n",
    "notes.reverse()\n",
    "note={}\n",
    "while money !=0:\n",
    "    for k in range(0,len(notes)):\n",
    "        i = notes[k]\n",
    "        if money>=i:\n",
    "            n = int((money/i))\n",
    "            note[i] = n\n",
    "            money = money - (i*n)\n",
    "            break\n",
    "print(note)\n",
    "print(\"total_notes = \",sum(note.values()))"
   ]
  },
  {
   "cell_type": "code",
   "execution_count": null,
   "metadata": {},
   "outputs": [],
   "source": []
  }
 ],
 "metadata": {
  "kernelspec": {
   "display_name": "Python 3",
   "language": "python",
   "name": "python3"
  },
  "language_info": {
   "codemirror_mode": {
    "name": "ipython",
    "version": 3
   },
   "file_extension": ".py",
   "mimetype": "text/x-python",
   "name": "python",
   "nbconvert_exporter": "python",
   "pygments_lexer": "ipython3",
   "version": "3.7.3"
  }
 },
 "nbformat": 4,
 "nbformat_minor": 2
}
