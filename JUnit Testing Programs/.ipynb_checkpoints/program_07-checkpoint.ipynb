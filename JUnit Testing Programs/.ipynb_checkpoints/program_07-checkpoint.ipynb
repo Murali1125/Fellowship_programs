{
 "cells": [
  {
   "cell_type": "code",
   "execution_count": null,
   "metadata": {},
   "outputs": [],
   "source": [
    "#program_07\n",
    "list = []\n",
    "#coverting int into byte code\n",
    "i = int(input(\"Enter a integer\"))\n",
    "while i != 0:\n",
    "    rem = (i % 2)\n",
    "    list.append(rem)\n",
    "    i = int(i/2)\n",
    "list.reverse()\n",
    "\n",
    "#swapping\n",
    "list1=[]\n",
    "for i in range(4,len(list),1):\n",
    "    list1.append(list[i])\n",
    "for i in range(0,4,1):\n",
    "    list1.append(list[i])\n",
    "\n",
    "#convertiong bytecode into int\n",
    "import math\n",
    "integer=0\n",
    "for i in range(len(list1),-1,-1):\n",
    "    \n",
    "    if i>0 and list1[i-1] == 1:\n",
    "        integer = integer + math.pow(2,i)\n",
    "print(\"the new num = \",integer)\n",
    "\n",
    "\n",
    "    "
   ]
  }
 ],
 "metadata": {
  "kernelspec": {
   "display_name": "Python 3",
   "language": "python",
   "name": "python3"
  },
  "language_info": {
   "codemirror_mode": {
    "name": "ipython",
    "version": 3
   },
   "file_extension": ".py",
   "mimetype": "text/x-python",
   "name": "python",
   "nbconvert_exporter": "python",
   "pygments_lexer": "ipython3",
   "version": "3.7.3"
  }
 },
 "nbformat": 4,
 "nbformat_minor": 2
}
