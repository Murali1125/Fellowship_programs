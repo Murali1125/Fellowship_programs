{
 "cells": [
  {
   "cell_type": "code",
   "execution_count": null,
   "metadata": {},
   "outputs": [],
   "source": [
    "#program_06\n",
    "import math\n",
    "bi = input(\"enter the binary digit  \")\n",
    "count = len(bi)\n",
    "sum = 0\n",
    "list =[]\n",
    "for i in bi:\n",
    "    if i == \"1\":\n",
    "        list.append(math.pow(2,count))\n",
    "        sum = sum + math.pow(2,count)\n",
    "    count = count-1\n",
    "print(\"the given binary input = \",bi,\"\\n the interger for the binary is \",sum,\"\\n in powers of the 2  \",end=\"\")\n",
    "#for add '+' in printing\n",
    "for i in list:\n",
    "    if i == list[-1]:\n",
    "        print(i)\n",
    "    else:\n",
    "        print(i,\"+\",end=\"\")"
   ]
  }
 ],
 "metadata": {
  "kernelspec": {
   "display_name": "Python 3",
   "language": "python",
   "name": "python3"
  },
  "language_info": {
   "codemirror_mode": {
    "name": "ipython",
    "version": 3
   },
   "file_extension": ".py",
   "mimetype": "text/x-python",
   "name": "python",
   "nbconvert_exporter": "python",
   "pygments_lexer": "ipython3",
   "version": "3.7.3"
  }
 },
 "nbformat": 4,
 "nbformat_minor": 2
}
