{
 "cells": [
  {
   "cell_type": "code",
   "execution_count": null,
   "metadata": {},
   "outputs": [],
   "source": [
    "#program_03\n",
    "print(\"in which units you will input temprature C=celcious, F=fahrenheit\")\n",
    "ch = input(\"C or F\")\n",
    "\n",
    "if (ch == \"C\"):\n",
    "    c = int(input())\n",
    "    temp = 32+(c*(9/5))\n",
    "    print(\"temprature in fahrenheit= \", temp)\n",
    "elif (ch == \"F\"):\n",
    "    f = int(input())\n",
    "    temp = (f-32)*(5/9)\n",
    "    print(\"temprature in celcious= \", temp)\n",
    "else:\n",
    "    print(\"input is not valid\")"
   ]
  }
 ],
 "metadata": {
  "kernelspec": {
   "display_name": "Python 3",
   "language": "python",
   "name": "python3"
  },
  "language_info": {
   "codemirror_mode": {
    "name": "ipython",
    "version": 3
   },
   "file_extension": ".py",
   "mimetype": "text/x-python",
   "name": "python",
   "nbconvert_exporter": "python",
   "pygments_lexer": "ipython3",
   "version": "3.7.3"
  }
 },
 "nbformat": 4,
 "nbformat_minor": 2
}
